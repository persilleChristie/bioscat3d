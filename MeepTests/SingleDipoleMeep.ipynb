import meep as mp
import numpy as np

# --- Simulation parameters ---
resolution = 50  # pixels/μm
cell_size = mp.Vector3(6, 6, 6)  # μm

# --- Dipole source settings ---
wavelength = 0.325  # μm
frequency = 1 / wavelength  # in units of 1/μm
source_pos = mp.Vector3(0, 0, 0)  # origin
source_component = mp.Ez  # z-directed dipole

# --- Observation point (in μm) ---
obs_point = mp.Vector3(1.0, 0.0, 0.0)

# --- Create simulation ---
sim = mp.Simulation(
    cell_size=cell_size,
    boundary_layers=[mp.PML(1.0)],
    resolution=resolution,
    sources=[mp.Source(mp.ContinuousSource(frequency=frequency),
                       component=source_component,
                       center=source_pos)],
)

# --- Run the simulation ---
sim.run(until=50)

# --- Get field at observation point ---
E = sim.get_field_point(mp.Ez, obs_point)
print(f"E_z at {obs_point.to_3()} = {E}")

